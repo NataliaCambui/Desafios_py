{
 "cells": [
  {
   "cell_type": "markdown",
   "metadata": {},
   "source": [
    "<h1>Desafios de Python"
   ]
  },
  {
   "cell_type": "markdown",
   "metadata": {},
   "source": [
    "1. Crie um programa que leia 2 valores e mostre um meni menu na tela:\n",
    "<p>[1]soma \n",
    "<p>[2] multiplicar\n",
    "<p>[3]maior\n",
    "<p>[4] novos numeros \n",
    "<p>[5] sair do programa. Sei programa devera realizar a operação solicitada em cada caso"
   ]
  },
  {
   "cell_type": "code",
   "execution_count": null,
   "metadata": {},
   "outputs": [],
   "source": [
    "n1 = int(input('Digite o 1º numero: '))\n",
    "n2 = int(input('Digite o 2º  numero: '))\n",
    "f= 0\n",
    "while f != 5:\n",
    "    f= int(input('''Escolha a função a ser executada:\n",
    "    [1]soma \n",
    "    [2] multiplicar\n",
    "    [3]maior\n",
    "    [4] novos numeros \n",
    "    [5] sair do programa.'''))\n",
    "    if f == 1:\n",
    "        print('A soma é {}'.format(n1 + n2))\n",
    "    elif f ==2:\n",
    "        print('A multiplicação entre os numeros é: {}.'.format(n1*n2))    \n",
    "    elif f ==3:\n",
    "        if n1 >n2:\n",
    "            print(' O maior numero digitado foi o {}'.format(n1))\n",
    "        else:\n",
    "            print(' O maior numero digitado foi o {}'.format(n2))  \n",
    "    elif f==4:\n",
    "        n1 = int(input('Digite 1º numero: '))\n",
    "        n2 = int(input('Digite 2º numero: '))    \n",
    "    elif f== 5:\n",
    "        print('Finalizando')\n",
    "    print('=-='*10)   \n",
    "print('Fim do programa. Volte sempre' )"
   ]
  },
  {
   "cell_type": "markdown",
   "metadata": {},
   "source": [
    "2. Crie um programa que leia varios numeros inteiros pelo teclado. O programa só vai para quando o usuário digitar o valor 999, que é a condição de parada. No final, mostre quantos numeros foram digitados e qual foi a soma entre eles (desconsiderando o flag)"
   ]
  },
  {
   "cell_type": "code",
   "execution_count": null,
   "metadata": {},
   "outputs": [],
   "source": [
    "n=0\n",
    "num=0\n",
    "soma =0\n",
    "n = int(input('Digite um numero: '))\n",
    "while n != 999:\n",
    "    num +=1\n",
    "    soma +=n \n",
    "    n = int(input('Digite um numero: '))\n",
    "print('Foram digitados {} numeros que somados {}'.format(num,soma))  "
   ]
  },
  {
   "cell_type": "markdown",
   "metadata": {},
   "source": [
    "3. Faça um programa que mostre a tabuada de varios numeros, um de cada vez, para cada valor digitado pelo usuário. O programa será interrompido quando o mumero solicitado for negativo."
   ]
  },
  {
   "cell_type": "code",
   "execution_count": null,
   "metadata": {},
   "outputs": [],
   "source": [
    "mult =1\n",
    "num = 0\n",
    "while True:\n",
    "    n = int(input('Digite qual tabuada quer ver: '))\n",
    "    if n<0:\n",
    "        break\n",
    "    print('-'*30)\n",
    "    for c in range(1,11):\n",
    "        print(f'{n} x {c} = {n*c}')\n",
    "    print('-'*30)       \n",
    "print('Acabou') "
   ]
  },
  {
   "cell_type": "markdown",
   "metadata": {},
   "source": [
    "4. Faça um programa que jogue par ou impar com o computador. O jogo so será interrompido quando o jogador perder, mostrando o total de vitorias consecutivas que ele comquistou no final do jogo."
   ]
  },
  {
   "cell_type": "code",
   "execution_count": null,
   "metadata": {},
   "outputs": [],
   "source": [
    "from random import randint\n",
    "v =0\n",
    "while True:\n",
    "    jogador = int(input('Digite um numero'))\n",
    "    computador = randint(0,10)\n",
    "    total = jogador + computador\n",
    "    tipo = ' '\n",
    "    while tipo not in 'PI':\n",
    "        tipo = str(input('Par ou impar:[P/I]')).strip().upper()[0]\n",
    "    print(f'Voce jogou {jogador} e o computador {computador}. Total {total}')\n",
    "    print('Deu par'if total%2 ==0 else'Deu impar')\n",
    "    if tipo == 'P':\n",
    "        if total%2==0:\n",
    "            print('Voce venceu!')\n",
    "            v+=1\n",
    "        else: print('Voce perdeu!')\n",
    "        break\n",
    "    elif tipo =='I':\n",
    "        if total%2==1:\n",
    "            print('Voce venceu!')\n",
    "            v+=1\n",
    "        else:\n",
    "            print('Voce perdeu!')\n",
    "        break            \n",
    "    print('Vamos jogar novamente...')    \n",
    "print(f'Game over. Voce venceu {v} vezes')"
   ]
  },
  {
   "cell_type": "markdown",
   "metadata": {},
   "source": [
    "5. Crie um programa que leia o nome de varios produtos. O programa devera perguntar se o usuario vai continuar. No final mostre:\n",
    "<p>a - qual é o total gasto na compra.\n",
    "<p>b - Quantos produtos custam mais de 1000 reais\n",
    "<p>c - Qual é o nome do produto mais barato\n"
   ]
  },
  {
   "cell_type": "code",
   "execution_count": null,
   "metadata": {},
   "outputs": [],
   "source": [
    "print('Mercearia do seu Zé')\n",
    "print('=-'*30)\n",
    "cont =0\n",
    "valor1=0\n",
    "soma =0\n",
    "while True:\n",
    "    produto = str(input('Produto: '))\n",
    "    valor = float(input('Valor: '))\n",
    "    continuar = str(input('Deseja continuar? [S/N]')).upper().strip()[0]\n",
    "    soma += valor\n",
    "    if valor > 1000.00:\n",
    "        cont+=1  \n",
    "    elif valor < valor1:\n",
    "        valor1 = valor\n",
    "        print(f'o menor preço foi da {produto} que custou {valor}')   \n",
    "    elif continuar == 'N':\n",
    "        break     \n",
    "print(f'O total da compra foi de R$ {soma}.')\n",
    "print(f'Temos {cont} produtos custando mais de 1000,00')\n",
    "print(f'O produto mais barato foi {produto} que custa {valor:.2f}')"
   ]
  },
  {
   "cell_type": "markdown",
   "metadata": {},
   "source": [
    "6. Crie um programa que simule o funcionamento de um caixa eletronico. No início pergunte ao usuário qual será o valor a ser sacado( numero inteiro) e o programa vai informar quantas cedulas de cada valor serão entregues\n",
    "#OBS considere que o caixa possui cedulas de 50, 20, 10 e 1"
   ]
  },
  {
   "cell_type": "code",
   "execution_count": null,
   "metadata": {},
   "outputs": [],
   "source": [
    "print('Banco Cambui')\n",
    "print('='*30)\n",
    "valor = int(input('Qual valor deseja sacar: R$' ))\n",
    "total = valor\n",
    "ced = 50\n",
    "totalced =0\n",
    "while True:\n",
    "    if total >= ced:\n",
    "        total -= ced\n",
    "        totalced +=1\n",
    "    else:\n",
    "        print(f'Total de {totalced} cedulas de {ced}')   \n",
    "        if ced ==50:\n",
    "            ced = 20\n",
    "        elif ced == 20:\n",
    "            ced = 10\n",
    "        elif ced == 10:\n",
    "            ced = 1\n",
    "        totalced = 0\n",
    "        if total ==0:\n",
    "            break                 \n",
    "print('Volte sempre ao Banco Cambui') "
   ]
  },
  {
   "cell_type": "markdown",
   "metadata": {},
   "source": [
    "7.Crie um programa faça um controle de estoque, quando o estoque estiver abaixo do estoque permitido para aquela categoria do produto, o time deve ser avisado (print) para fazer um novo pedido daquele produto.\n",
    "- Cada categoria de produto tem um estoque mínimo diferente, segundo a regra abaixo:\n",
    "- alimentos -> Estoque mínimo: 50\n",
    "- bebidas -> Estoque mínimo: 75\n",
    "- limpeza -> Estoque mínimo: 30\n",
    "Para isso vamos criar um programa que pede 3 inputs do usuário: nome do produto, categoria e quantidade atual em estoque.\n",
    "Se o produto tiver abaixo do estoque mínimo da categoria dele, o programa deve printar a mensagem \"Solicitar {produto} à equipe de compras, temos apenas {unidades} em estoque\""
   ]
  },
  {
   "cell_type": "code",
   "execution_count": null,
   "metadata": {},
   "outputs": [],
   "source": [
    "produto = str(input(\"Nome do produto: \"))\n",
    "categoria = input('''Categoria:[1] alimentos, [2]bebidas ou [3]limpeza?''')\n",
    "quantidade = input(\"Digite a quantidade: \")\n",
    "alimentos = 50\n",
    "bebidas = 75\n",
    "limpeza = 30\n",
    "\n",
    "if categoria and produto and quantidade:\n",
    "    categoria = int(categoria)\n",
    "    quantidade = int(quantidade)\n",
    "    if categoria == 1:\n",
    "        if quantidade < alimentos:\n",
    "            print(f'Solicitar {produto} à equipe de compras, temos apenas {alimentos} em estoque.')\n",
    "        else:\n",
    "            print('ok')    \n",
    "    elif categoria == 2:\n",
    "        if quantidade < bebidas:\n",
    "            print(f'Solicitar {produto} a equipe de compras, temos apenas {bebidas} em estoque.')\n",
    "        else:\n",
    "            print('ok')\n",
    "    elif categoria == 3:\n",
    "        if quantidade < limpeza:\n",
    "            print(f'Solicitar {produto} a equipe de compras, temos apenas {limpeza} em estoque.')\n",
    "        else:\n",
    "            print('ok')\n",
    "else:\n",
    "    print('Preencha os dados corretamente.')     "
   ]
  },
  {
   "cell_type": "markdown",
   "metadata": {},
   "source": [
    "8. Crie um programa que leia varios numeros inteiros pelo teclado. No final da execução, mostre a media entre todos os valores e qual foi o maior e menor numeros lido. O programa deveperguntar ao usuario se ele quer ou não continuar a digitar valores."
   ]
  },
  {
   "cell_type": "code",
   "execution_count": null,
   "metadata": {},
   "outputs": [],
   "source": [
    "resp ='S'\n",
    "soma =0\n",
    "quant =0\n",
    "media = 0\n",
    "maior = 0\n",
    "menor =0\n",
    "\n",
    "while resp in 'Ss':\n",
    "    num = int(input('Digite um numero: '))\n",
    "    soma += num  \n",
    "    quant += 1\n",
    "    if quant == 1:\n",
    "        maior = menor = num\n",
    "    else:    \n",
    "        if num > maior:\n",
    "            maior = num\n",
    "        elif num < menor:\n",
    "            menor = num\n",
    "        media = soma/quant\n",
    "    resp = str(input('Quer continuar: [S/N]')).upper().strip()[0]    \n",
    "    \n",
    "print( 'Voce digitou {} que somam {} numeros e a media foi{}'.format(quant,soma, media))\n",
    "print(' O maior numero é {}, o menor numero é {}.'.format(maior, menor))  "
   ]
  },
  {
   "cell_type": "markdown",
   "metadata": {},
   "source": [
    "9. Escreva o programa que leia um numero n inteiro qualquer e mostre na tela as n primeiros elementos de uma sequencia de fibonacci"
   ]
  },
  {
   "cell_type": "code",
   "execution_count": null,
   "metadata": {},
   "outputs": [],
   "source": [
    "print('-='*10)\n",
    "print('Sequencia de fibronati')\n",
    "print('-='*10)\n",
    "n = int(input('Quantos termos voce quer mostrar: '))\n",
    "t1=0\n",
    "t2=1\n",
    "print('{} ->{}'.format(t1,t2),end='')\n",
    "cont=3\n",
    "while cont <=n:\n",
    "    t3=t1+t2\n",
    "    print('-> {}'.format(t3),end='')\n",
    "    t1=t2\n",
    "    t2=t3\n",
    "    cont +=1\n",
    "print(' fim')"
   ]
  },
  {
   "cell_type": "markdown",
   "metadata": {},
   "source": [
    "10. Faça im programa que leia um numero quaquer e mostre seu fatorial: Ex: 5! = 5x4x3x2x1 = 120\n",
    "<p>-->Solução usando o modulo\n",
    "<p>from math import factorial"
   ]
  },
  {
   "cell_type": "code",
   "execution_count": null,
   "metadata": {},
   "outputs": [],
   "source": [
    "n = int(input('Digite um numero: '))\n",
    "c=n\n",
    "f=1\n",
    "while c>0:\n",
    "    print('{}'.format(c), end='')\n",
    "    print('x' if c>1 else'=', end='')\n",
    "    f*=c\n",
    "    c-=1\n",
    "print('O fatorial de {}!, os numeros somam {}'.format(n, f))"
   ]
  }
 ],
 "metadata": {
  "language_info": {
   "name": "python"
  }
 },
 "nbformat": 4,
 "nbformat_minor": 2
}
