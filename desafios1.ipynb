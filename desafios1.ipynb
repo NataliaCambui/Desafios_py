{
 "cells": [
  {
   "cell_type": "markdown",
   "metadata": {},
   "source": [
    "<h1>Desafios Python\n",
    "<h3> Exercícios mais legais de cursos de python que realizei."
   ]
  },
  {
   "cell_type": "markdown",
   "metadata": {},
   "source": []
  },
  {
   "cell_type": "markdown",
   "metadata": {},
   "source": [
    "1. Escreva um programa para aprovar um emprestimo bancário para a compra de uma casa. O programa vai perguntar o valor da casa, o salário do comprador e em quantos anos ele vai pagar.\n",
    "Calcule o valor da prestação mensal, sabendo que ele não pode exceder 30% do salário ou então o emprestimo sera negado."
   ]
  },
  {
   "cell_type": "code",
   "execution_count": null,
   "metadata": {},
   "outputs": [],
   "source": [
    "valor = float(input('Valor da casa? '))\n",
    "salário = float(input('Salário do comprador? '))\n",
    "tempo= int(input('Quantos anos de financiamento? '))\n",
    "\n",
    "parcela = valor/(tempo*12)\n",
    "\n",
    "if salário-(salário*0.3) >= parcela:\n",
    "    print('Seu emprestimo foi aprovado')\n",
    "    print(f'Para pagar uma casa de R${valor:.2f} em {tempo} anos. Parcelas de {parcela:.2f} ao mês')\n",
    "else:\n",
    "    print(\"Seu emprestimo foi negado\")"
   ]
  },
  {
   "cell_type": "markdown",
   "metadata": {},
   "source": [
    "2. Escreva um programa que leia um numero inteiro qualquer e peça para o usuário escolher qual sera a base de conversão:\n",
    "1 para binario, 2 para octal, 3 para exadecimal"
   ]
  },
  {
   "cell_type": "code",
   "execution_count": null,
   "metadata": {},
   "outputs": [],
   "source": [
    "num = int(input('Digite um numero inteiro:'))\n",
    "print('''Escolha uma das bases para conversão:\n",
    "[1] converter para binário\n",
    "[2] converter para octal\n",
    "[3] converter para hexadecimal''')\n",
    "opção = int(input('Sua opção:'))\n",
    "if opção == 1:\n",
    "    print('{} convertido para binário é igual a {}'.format(num,bin(num)[2:]))\n",
    "elif opção ==2:\n",
    "    print('{} convertido para octal é igual a {}'.format(num,oct(num)[2:]))\n",
    "elif opção == 3:\n",
    "    print('{} convertido para hexadecimal é igual a {}'.format(num,hex(num)[2:]))\n",
    "else:\n",
    "    print('Opção invalida, tente novamente')"
   ]
  },
  {
   "cell_type": "markdown",
   "metadata": {},
   "source": [
    "3. Crie um programa que leia duas notas de um aluno e calcule sua média mostrando a mensagem no final de acordo com sua média atingida:\n",
    "<p>Media abaixo de 5: reprovado\n",
    "<p>Media entre 5  e 6,9: recuperação\n",
    "<p>Media 7,0 ou superior: aprovado"
   ]
  },
  {
   "cell_type": "code",
   "execution_count": null,
   "metadata": {},
   "outputs": [],
   "source": [
    "primeira = float(input('Digite a primeira nota:'))\n",
    "segunda = float(input('Digite a segunda nota: '))\n",
    "media = (primeira + segunda)/2\n",
    "\n",
    "if media < 5.0:\n",
    "    print('Sua media foi{}, voce foi reprovado'.format(media))\n",
    "elif 5.0 < media < 6.9:\n",
    "    print('Sua media foi {}, voce está de recuperação'.format(media))\n",
    "elif media > 7.0:\n",
    "    print('Sua media foi {} parabéns, voce foi aprovado'.format(media))    "
   ]
  },
  {
   "cell_type": "markdown",
   "metadata": {},
   "source": [
    "4. Desenvolva uma logica que leia o peso e altura de uma pessoa e calcule seu imc.\n",
    "<p>Abaixo de 18.5: abaixo do peso\n",
    "<p>Entre 18,5 e 25: peso ideal\n",
    "<p>Entre 25 até 30: Sobrepeso\n",
    "<p>Entre 30 até 40: Obesidade\n",
    "<p>Acima de 40: obesidade morbida"
   ]
  },
  {
   "cell_type": "code",
   "execution_count": null,
   "metadata": {},
   "outputs": [],
   "source": [
    "peso= float(input('Digite o peso:'))\n",
    "altura = float(input('Digite a altura:'))\n",
    "imc = peso/(altura**2)\n",
    "\n",
    "if imc < 18.5:\n",
    "    print('Abaixo do peso.')\n",
    "elif 25 > imc >= 18.5:\n",
    "    print('Peso ideal.')\n",
    "elif 25 <= imc < 30:\n",
    "    print('sobrepeso')    \n",
    "elif 30 < imc < 40:\n",
    "    print('Obesidade.')    \n",
    "elif imc > 40:\n",
    "    print('Obesidade morbida')"
   ]
  },
  {
   "cell_type": "markdown",
   "metadata": {},
   "source": [
    "5. Elabore um programa que calcule o valor a ser pago pelo produto considerando seu preço normal e a condições de pagamento\n",
    "<p> A vista dinheiro/ cheque 10% de desconto\n",
    "<p> A vista no cartão 5% de desconto\n",
    "<p>Em até 2x no cartão: preço normal\n",
    "<p>Em 3x 20% de juros"
   ]
  },
  {
   "cell_type": "code",
   "execution_count": null,
   "metadata": {},
   "outputs": [],
   "source": [
    "print('{:=^40}'.format('Lojas Cambui'))\n",
    "valor = float(input(\"Valor da compra: \"))\n",
    "formadepagamento = int(input('''''Forma de pagamento: \n",
    "[1] a vista dinheiro ou cheque\n",
    "[2] a vista cartão\n",
    "[3] 2x cartão\n",
    "[4] 3x cartão'''''))\n",
    "\n",
    "f1= float(valor - (valor*0.1))\n",
    "f2= float(valor - (valor*0.05))\n",
    "f3= float(valor/2)\n",
    "f4= float(((valor*0.2) + valor)/3)\n",
    "\n",
    "if formadepagamento == 1:\n",
    "    print('O valor R$ {:.2f} na forma de pagamento dinheiro cheque fica R$ {:.2f}.'.format( valor, f1))\n",
    "elif formadepagamento == 2:\n",
    "    print( 'O valor R$ {:.2f} a vista ou cartão fica R$ {:.2f}.'.format(valor, f2)) \n",
    "elif formadepagamento == 3:\n",
    "    print(' O valor R$ {:.2f} pago no cartão em 2x fica R$ {:.2f} sem juros.'.format( valor, f3))    \n",
    "elif formadepagamento == 4:\n",
    "    print('o valor R$ {:.2f} no cartão em 3x fica R$ {:.2f} com juros.'.format(valor, f4))   \n",
    "else:\n",
    "    print('Opção invalida de pagamento')"
   ]
  },
  {
   "cell_type": "markdown",
   "metadata": {},
   "source": [
    "6. Crie um programa que faça o computador jogar jokempo com vc"
   ]
  },
  {
   "cell_type": "code",
   "execution_count": null,
   "metadata": {},
   "outputs": [],
   "source": [
    "from random import randint\n",
    "from time import sleep\n",
    "itens = ('Pedra', 'Papel', ' Tesoura')\n",
    "computador = randint(0,2)\n",
    "\n",
    "jogador = int(input('''Escolha sua jogada no jokempo:\n",
    "[0] Pedra\n",
    "[1] Papel\n",
    "[2] Tesoura :\n",
    "Qual a sua jogada: '''))\n",
    "print('JO')\n",
    "sleep(1)\n",
    "print('KEN')\n",
    "sleep(1)\n",
    "print('PO')\n",
    "sleep(1)\n",
    "print('-='*15)\n",
    "print('O computador escolheu {}'.format(itens[computador]))\n",
    "print('Jogador escolher {}'.format(itens[jogador]))\n",
    "print('-='*15)\n",
    "\n",
    "\n",
    "if computador==0: #computador jogou pedra\n",
    "    if jogador==0:\n",
    "        print('empate')\n",
    "    elif jogador==1:\n",
    "        print('Jogador venceu')\n",
    "    elif jogador==2:\n",
    "        print('Computador venceu')\n",
    "    else:\n",
    "        print('jogada invalida!')\n",
    "\n",
    "if computador==1: #computador jogou papel\n",
    "    if jogador==1:\n",
    "        print('empate')\n",
    "    elif jogador==2:\n",
    "        print('Jogador venceu')\n",
    "    elif jogador==0:\n",
    "        print('Computador venceu')\n",
    "    else:\n",
    "        print('jogada invalida!')    \n",
    "\n",
    "if computador==2: #computador jogou tesoura\n",
    "    if jogador==2:\n",
    "        print('empate')\n",
    "    elif jogador==0:\n",
    "        print('Jogador venceu')\n",
    "    elif jogador==1:\n",
    "        print('Computador venceu')\n",
    "    else:\n",
    "        print('jogada invalida!')            \n"
   ]
  },
  {
   "cell_type": "markdown",
   "metadata": {},
   "source": [
    "7. Faça um programa que leia um numero e mostre sua tabuada utilizando o for"
   ]
  },
  {
   "cell_type": "code",
   "execution_count": null,
   "metadata": {},
   "outputs": [],
   "source": [
    "n = int(input('DIGITE UM NUMERO: '))\n",
    "m = 0\n",
    "for c in range(0,11):\n",
    "    m = n*c\n",
    "    print(' {} x {} = {}'.format(n, c, m))"
   ]
  },
  {
   "cell_type": "markdown",
   "metadata": {},
   "source": [
    "8. Desenvolva um programa que leia o primeiro termo e a razao de uma PA no final e mostre os 10 primeiros termos dessa progressão "
   ]
  },
  {
   "cell_type": "code",
   "execution_count": null,
   "metadata": {},
   "outputs": [],
   "source": [
    "n = int(input('Digite o termo'))\n",
    "m = int( input('Digite a razão'))\n",
    "d = n + (10-1)* m\n",
    "for c in range(n,d,m):\n",
    "    print('{}'.format(c))"
   ]
  },
  {
   "cell_type": "markdown",
   "metadata": {},
   "source": [
    "9. Desenvolva um programa que leia nome, idade e sexo de 4 pessoas e no final mostre: \n",
    "<p>a media de idade do grupo\n",
    "<p>qual o nome do homem mais velho\n",
    "<p>quantas mulheres tem menos de 20 anos"
   ]
  },
  {
   "cell_type": "code",
   "execution_count": null,
   "metadata": {},
   "outputs": [],
   "source": [
    "somaidade=0\n",
    "mediaidade=0\n",
    "maioridadeh=0\n",
    "nomevelho=0\n",
    "totm20=0\n",
    "\n",
    "for p in range(1,5):\n",
    "    print('----{}ª pessoa ----'.format(p))\n",
    "    nome = str(input('Nome: ')).strip()\n",
    "    idade =int(input('Idade: '))\n",
    "    sexo = str(input('Sexo:[M/f]:')).strip()\n",
    "    somaidade+=idade\n",
    "    if p==1 and sexo in'Mm':\n",
    "        maioridadeh = idade\n",
    "        nomevelho = nome\n",
    "    if sexo in 'Mm' and idade> maioridadeh:\n",
    "        maioridadeh = idade\n",
    "        nomevelho = nome   \n",
    "    if sexo in 'Ff' and idade<20:\n",
    "        totm20+=1\n",
    "        \n",
    "mediaidade = somaidade/4\n",
    "print('A media de idade do grupo é de {} anos.'.format(mediaidade))\n",
    "print('homem mais velho tem {} anos e se chama {}.'.format(maioridadeh,nomevelho))\n",
    "print('No grupo tem {} mulheres com menos de 20 anos.'.format(totm20))"
   ]
  },
  {
   "cell_type": "markdown",
   "metadata": {},
   "source": [
    "10. Faça um programa onde o computador vai pensar em um numero entre 0 e 10. O jogador vai tentar advinhar até acertar, mostrando no final quantos palpites foram necessarios para vencer.\n",
    "<p>Podemos colocar uma declaração falsa ex: \n",
    "<p>acertou = false\n",
    "<p>while not acertou:"
   ]
  },
  {
   "cell_type": "code",
   "execution_count": null,
   "metadata": {},
   "outputs": [],
   "source": [
    "from random import randint\n",
    "import random\n",
    "n=0\n",
    "m = random.randint(1,10)\n",
    "palpite=0\n",
    "\n",
    "while not m == n:\n",
    "    n = int(input('Digite um numero'))\n",
    "    palpite +=1\n",
    "    if n!= m:\n",
    "        print('Voce digitou errado')\n",
    "        if m > n:\n",
    "            print('Mais')  \n",
    "        elif m < n:\n",
    "            print('Menos')       \n",
    "print(' Parabens, voce acertou depois de {} tentativas'.format(palpite)) "
   ]
  }
 ],
 "metadata": {
  "language_info": {
   "name": "python"
  }
 },
 "nbformat": 4,
 "nbformat_minor": 2
}
